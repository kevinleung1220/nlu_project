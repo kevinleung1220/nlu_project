{
 "cells": [
  {
   "cell_type": "code",
   "execution_count": 1,
   "metadata": {},
   "outputs": [],
   "source": [
    "import csv\n",
    "import pandas as pd\n",
    "import numpy as np\n",
    "import matplotlib.pyplot as plt\n",
    "import os\n",
    "\n",
    "%matplotlib inline"
   ]
  },
  {
   "cell_type": "code",
   "execution_count": 118,
   "metadata": {
    "scrolled": true
   },
   "outputs": [],
   "source": [
    "def compute_accuracy(prob):\n",
    "    predictions = []\n",
    "    sequences_as_np = []\n",
    "    for i in range(len(prob)):\n",
    "        sequence_probs = prob.iloc[i,2]\n",
    "        if sequence_probs != '[]':\n",
    "            sequence_probs = np.array(sequence_probs[1:-1].split(\",\"), dtype=np.float64)\n",
    "            \n",
    "            if prob.iloc[i,1] >= np.max(sequence_probs):\n",
    "                predictions.append(1)\n",
    "\n",
    "            else:\n",
    "                predictions.append(0)\n",
    "        else:\n",
    "            predictions.append(np.nan)\n",
    "        sequences_as_np.append(sequence_probs)\n",
    "    predictions = pd.Series(predictions)\n",
    "    sequences_as_np = pd.Series(sequences_as_np)\n",
    "    prob.iloc[:,2] = sequences_as_np\n",
    "    prob = pd.concat([prob, predictions], axis=1)\n",
    "    #prob = pd.concat([prob, sequences_as_np], axis=1)\n",
    "    return prob\n",
    "\n",
    "\n",
    "def top_3(prob, n):\n",
    "    predictions = []\n",
    "    sequences_as_np = []\n",
    "    for i in range(len(prob)):\n",
    "        sequence_probs = prob.iloc[i,2]\n",
    "        if sequence_probs != '[]':\n",
    "            sequence_probs = np.array(sequence_probs[1:-1].split(\",\"), dtype=np.float64)\n",
    "            #print((prob.iloc[i,1] >= np.sort(sequence_probs)[-n:len(sequence_probs)]).all)\n",
    "            if len(sequence_probs) > n:\n",
    "                if prob.iloc[i,1] >= np.sort(sequence_probs)[-n]:\n",
    "                    #print(prob.iloc[i,1])\n",
    "                    #print(np.sort(sequence_probs)[-n:len(sequence_probs)])#[-n:]))\n",
    "                    predictions.append(1)\n",
    "                else:\n",
    "                    predictions.append(0)\n",
    "            else:\n",
    "                predictions.append(1)\n",
    "        else:\n",
    "            predictions.append(np.nan)\n",
    "        sequences_as_np.append(sequence_probs)\n",
    "    predictions = pd.Series(predictions)\n",
    "    sequences_as_np = pd.Series(sequences_as_np)\n",
    "    prob.iloc[:,2] = sequences_as_np\n",
    "    prob = pd.concat([prob, predictions], axis=1)\n",
    "    #prob = pd.concat([prob, sequences_as_np], axis=1)\n",
    "    return prob"
   ]
  },
  {
   "cell_type": "code",
   "execution_count": 75,
   "metadata": {},
   "outputs": [],
   "source": [
    "# THIS IS WHERE YOU START - DANNY\n",
    "\n",
    "en_perm6 = pd.read_csv('probabilities/new_prob/en_probabilities_6gram.csv') #dtype={'0': np.float64, '1': np.array})\n",
    "en_perm6_acc = compute_accuracy(en_perm6)\n",
    "\n",
    "en_perm7 = pd.read_csv('probabilities/new_prob/en_probabilities_7gram.csv') #dtype={'0': np.float64, '1': np.array})\n",
    "en_perm7_acc = compute_accuracy(en_perm7)\n",
    "\n",
    "en_perm8 = pd.read_csv('probabilities/new_prob/en_probabilities_8gram.csv') #dtype={'0': np.float64, '1': np.array})\n",
    "en_perm8_acc = compute_accuracy(en_perm8)\n",
    "\n",
    "en_perm9 = pd.read_csv('probabilities/new_prob/en_probabilities_9gram.csv') #dtype={'0': np.float64, '1': np.array})\n",
    "en_perm9_acc = compute_accuracy(en_perm9)\n",
    "\n",
    "es_perm6 = pd.read_csv('probabilities/new_prob/es_probabilities_6gram.csv') #dtype={'0': np.float64, '1': np.array})\n",
    "es_perm6_acc = compute_accuracy(es_perm6)\n",
    "\n",
    "es_perm7 = pd.read_csv('probabilities/new_prob/es_probabilities_7gram.csv') #dtype={'0': np.float64, '1': np.array})\n",
    "es_perm7_acc = compute_accuracy(es_perm7)\n",
    "\n",
    "es_perm8 = pd.read_csv('probabilities/new_prob/es_probabilities_8gram.csv') #dtype={'0': np.float64, '1': np.array})\n",
    "es_perm8_acc = compute_accuracy(es_perm8)\n",
    "\n",
    "es_perm9 = pd.read_csv('probabilities/new_prob/es_probabilities_9gram.csv') #dtype={'0': np.float64, '1': np.array})\n",
    "es_perm9_acc = compute_accuracy(es_perm9)\n",
    "\n",
    "ru_perm6 = pd.read_csv('probabilities/ru_probabilities_6gram.csv') #dtype={'0': np.float64, '1': np.array})\n",
    "ru_perm6_acc = compute_accuracy(ru_perm6)\n",
    "\n",
    "ru_perm7 = pd.read_csv('probabilities/ru_probabilities_7gram_old.csv') #dtype={'0': np.float64, '1': np.array})\n",
    "ru_perm7_acc = compute_accuracy(ru_perm7)\n",
    "\n",
    "ru_perm8 = pd.read_csv('probabilities/ru_probabilities_8gram.csv') #dtype={'0': np.float64, '1': np.array})\n",
    "ru_perm8_acc = compute_accuracy(ru_perm8)\n",
    "\n",
    "ru_perm9 = pd.read_csv('probabilities/ru_probabilities_9gram.csv') #dtype={'0': np.float64, '1': np.array})\n",
    "ru_perm9_acc = compute_accuracy(ru_perm9)"
   ]
  },
  {
   "cell_type": "code",
   "execution_count": 119,
   "metadata": {
    "scrolled": true
   },
   "outputs": [],
   "source": [
    "en_perm6 = pd.read_csv('probabilities/new_prob/en_probabilities_6gram.csv') #dtype={'0': np.float64, '1': np.array})\n",
    "en_perm6_top3 = top_3(en_perm6,3)\n",
    "\n",
    "en_perm7 = pd.read_csv('probabilities/new_prob/en_probabilities_7gram.csv') #dtype={'0': np.float64, '1': np.array})\n",
    "en_perm7_top3 = top_3(en_perm7, 3)\n",
    "\n",
    "en_perm8 = pd.read_csv('probabilities/new_prob/en_probabilities_8gram.csv') #dtype={'0': np.float64, '1': np.array})\n",
    "en_perm8_top3 = top_3(en_perm8, 3)\n",
    "\n",
    "en_perm9 = pd.read_csv('probabilities/new_prob/en_probabilities_9gram.csv') #dtype={'0': np.float64, '1': np.array})\n",
    "en_perm9_top3 = top_3(en_perm9, 3)\n",
    "\n",
    "es_perm6 = pd.read_csv('probabilities/new_prob/es_probabilities_6gram.csv') #dtype={'0': np.float64, '1': np.array})\n",
    "es_perm6_top3 = top_3(es_perm6, 3)\n",
    "\n",
    "es_perm7 = pd.read_csv('probabilities/new_prob/es_probabilities_7gram.csv') #dtype={'0': np.float64, '1': np.array})\n",
    "es_perm7_top3 = top_3(es_perm7, 3)\n",
    "\n",
    "es_perm8 = pd.read_csv('probabilities/new_prob/es_probabilities_8gram.csv') #dtype={'0': np.float64, '1': np.array})\n",
    "es_perm8_top3 = top_3(es_perm8, 3)\n",
    "\n",
    "es_perm9 = pd.read_csv('probabilities/new_prob/es_probabilities_9gram.csv') #dtype={'0': np.float64, '1': np.array})\n",
    "es_perm9_top3 = top_3(es_perm9, 3)\n",
    "\n",
    "ru_perm6 = pd.read_csv('probabilities/ru_probabilities_6gram.csv') #dtype={'0': np.float64, '1': np.array})\n",
    "ru_perm6_top3 = top_3(ru_perm6, 3)\n",
    "\n",
    "ru_perm7 = pd.read_csv('probabilities/ru_probabilities_7gram_old.csv') #dtype={'0': np.float64, '1': np.array})\n",
    "ru_perm7_top3 = top_3(ru_perm7, 3)\n",
    "\n",
    "ru_perm8 = pd.read_csv('probabilities/ru_probabilities_8gram.csv') #dtype={'0': np.float64, '1': np.array})\n",
    "ru_perm8_top3 = top_3(ru_perm8, 3)\n",
    "\n",
    "ru_perm9 = pd.read_csv('probabilities/ru_probabilities_9gram.csv') #dtype={'0': np.float64, '1': np.array})\n",
    "ru_perm9_top3 = top_3(ru_perm9, 3)"
   ]
  },
  {
   "cell_type": "code",
   "execution_count": 120,
   "metadata": {},
   "outputs": [],
   "source": [
    "en_perm6 = pd.read_csv('probabilities/new_prob/en_probabilities_6gram.csv') #dtype={'0': np.float64, '1': np.array})\n",
    "en_perm6_top5 = top_3(en_perm6, 5)\n",
    "\n",
    "en_perm7 = pd.read_csv('probabilities/new_prob/en_probabilities_7gram.csv') #dtype={'0': np.float64, '1': np.array})\n",
    "en_perm7_top5 = top_3(en_perm7, 5)\n",
    "\n",
    "en_perm8 = pd.read_csv('probabilities/new_prob/en_probabilities_8gram.csv') #dtype={'0': np.float64, '1': np.array})\n",
    "en_perm8_top5 = top_3(en_perm8, 5)\n",
    "\n",
    "en_perm9 = pd.read_csv('probabilities/new_prob/en_probabilities_9gram.csv') #dtype={'0': np.float64, '1': np.array})\n",
    "en_perm9_top5 = top_3(en_perm9, 5)\n",
    "\n",
    "es_perm6 = pd.read_csv('probabilities/new_prob/es_probabilities_6gram.csv') #dtype={'0': np.float64, '1': np.array})\n",
    "es_perm6_top5 = top_3(es_perm6, 5)\n",
    "\n",
    "es_perm7 = pd.read_csv('probabilities/new_prob/es_probabilities_7gram.csv') #dtype={'0': np.float64, '1': np.array})\n",
    "es_perm7_top5 = top_3(es_perm7, 5)\n",
    "\n",
    "es_perm8 = pd.read_csv('probabilities/new_prob/es_probabilities_8gram.csv') #dtype={'0': np.float64, '1': np.array})\n",
    "es_perm8_top5 = top_3(es_perm8, 5)\n",
    "\n",
    "es_perm9 = pd.read_csv('probabilities/new_prob/es_probabilities_9gram.csv') #dtype={'0': np.float64, '1': np.array})\n",
    "es_perm9_top5 = top_3(es_perm9, 5)\n",
    "\n",
    "ru_perm6 = pd.read_csv('probabilities/ru_probabilities_6gram.csv') #dtype={'0': np.float64, '1': np.array})\n",
    "ru_perm6_top5 = top_3(ru_perm6, 5)\n",
    "\n",
    "ru_perm7 = pd.read_csv('probabilities/ru_probabilities_7gram_old.csv') #dtype={'0': np.float64, '1': np.array})\n",
    "ru_perm7_top5 = top_3(ru_perm7, 5)\n",
    "\n",
    "ru_perm8 = pd.read_csv('probabilities/ru_probabilities_8gram.csv') #dtype={'0': np.float64, '1': np.array})\n",
    "ru_perm8_top5 = top_3(ru_perm8, 5)\n",
    "\n",
    "ru_perm9 = pd.read_csv('probabilities/ru_probabilities_9gram.csv') #dtype={'0': np.float64, '1': np.array})\n",
    "ru_perm9_top5 = top_3(ru_perm9, 5)"
   ]
  },
  {
   "cell_type": "code",
   "execution_count": 5,
   "metadata": {},
   "outputs": [
    {
     "name": "stdout",
     "output_type": "stream",
     "text": [
      "Num of English sentences with scrambled representations for 6-grams: 325 / 1000\n",
      "Num of English sentences with scrambled representations for 7-grams: 140 / 1000\n",
      "Num of English sentences with scrambled representations for 8-grams: 82 / 1000\n",
      "Num of English sentences with scrambled representations for 9-grams: 52 / 1000\n",
      "\n",
      "Accuracy for Scrambled English 6-grams: 0.3415384615384615\n",
      "Accuracy for Scrambled English 7-grams: 0.4357142857142857\n",
      "Accuracy for Scrambled English 8-grams: 0.6707317073170732\n",
      "Accuracy for Scrambled English 9-grams: 0.5576923076923077\n",
      "\n",
      "Number of English Sentences Reconstructed Correctly: 111 / 325\n",
      "Number of English Sentences Reconstructed Correctly: 61 / 140\n",
      "Number of English Sentences Reconstructed Correctly: 55 / 82\n",
      "Number of English Sentences Reconstructed Correctly: 29 / 52\n",
      "\n",
      "Accuracy for All English 6-grams: 0.786\n",
      "Accuracy for All English 7-grams: 0.921\n",
      "Accuracy for All English 8-grams: 0.973\n",
      "Accuracy for All English 9-grams: 0.977\n"
     ]
    }
   ],
   "source": [
    "print('Num of English sentences with scrambled representations for 6-grams: ' + str(np.sum(en_perm6_acc.iloc[:,3] >= 0)) + ' / 1000')\n",
    "print('Num of English sentences with scrambled representations for 7-grams: ' + str(np.sum(en_perm7_acc.iloc[:,3] >= 0)) + ' / 1000')\n",
    "print('Num of English sentences with scrambled representations for 8-grams: ' + str(np.sum(en_perm8_acc.iloc[:,3] >= 0)) + ' / 1000')\n",
    "print('Num of English sentences with scrambled representations for 9-grams: ' + str(np.sum(en_perm9_acc.iloc[:,3] >= 0)) + ' / 1000')\n",
    "print()\n",
    "print('Accuracy for Scrambled English 6-grams: ' + str(np.sum(en_perm6_acc.iloc[:,3]) / np.sum(en_perm6_acc.iloc[:,3] >= 0)))\n",
    "print('Accuracy for Scrambled English 7-grams: ' + str(np.sum(en_perm7_acc.iloc[:,3]) / np.sum(en_perm7_acc.iloc[:,3] >= 0)))\n",
    "print('Accuracy for Scrambled English 8-grams: ' + str(np.sum(en_perm8_acc.iloc[:,3]) / np.sum(en_perm8_acc.iloc[:,3] >= 0)))\n",
    "print('Accuracy for Scrambled English 9-grams: ' + str(np.sum(en_perm9_acc.iloc[:,3]) / np.sum(en_perm9_acc.iloc[:,3] >= 0)))\n",
    "print()\n",
    "print('Number of English Sentences Reconstructed Correctly: ' + str(int(np.sum(en_perm6_acc.iloc[:,3]))) + ' / ' + str(np.sum(en_perm6_acc.iloc[:,3] >= 0)))\n",
    "print('Number of English Sentences Reconstructed Correctly: ' + str(int(np.sum(en_perm7_acc.iloc[:,3]))) + ' / ' + str(np.sum(en_perm7_acc.iloc[:,3] >= 0)))\n",
    "print('Number of English Sentences Reconstructed Correctly: ' + str(int(np.sum(en_perm8_acc.iloc[:,3]))) + ' / ' + str(np.sum(en_perm8_acc.iloc[:,3] >= 0)))\n",
    "print('Number of English Sentences Reconstructed Correctly: ' + str(int(np.sum(en_perm9_acc.iloc[:,3]))) + ' / ' + str(np.sum(en_perm9_acc.iloc[:,3] >= 0)))\n",
    "print()\n",
    "print('Accuracy for All English 6-grams: ' + str(np.sum(en_perm6_acc.iloc[:,3] != 0) / len(en_perm6_acc.iloc[:,3])))\n",
    "print('Accuracy for All English 7-grams: ' + str(np.sum(en_perm7_acc.iloc[:,3] != 0) / len(en_perm7_acc.iloc[:,3])))\n",
    "print('Accuracy for All English 8-grams: ' + str(np.sum(en_perm8_acc.iloc[:,3] != 0) / len(en_perm8_acc.iloc[:,3])))\n",
    "print('Accuracy for All English 9-grams: ' + str(np.sum(en_perm9_acc.iloc[:,3] != 0) / len(en_perm9_acc.iloc[:,3])))"
   ]
  },
  {
   "cell_type": "code",
   "execution_count": 130,
   "metadata": {},
   "outputs": [
    {
     "name": "stdout",
     "output_type": "stream",
     "text": [
      "Top 3 Accuracy for Scrambled English 6-grams: 0.7938461538461539\n",
      "Top 3 Accuracy for Scrambled English 7-grams: 0.85\n",
      "Top 3 Accuracy for Scrambled English 8-grams: 0.9024390243902439\n",
      "Top 3 Accuracy for Scrambled English 9-grams: 0.8653846153846154\n",
      "\n",
      "Number of English Sentences Reconstructed Correctly: 258 / 325\n",
      "Number of English Sentences Reconstructed Correctly: 119 / 140\n",
      "Number of English Sentences Reconstructed Correctly: 74 / 82\n",
      "Number of English Sentences Reconstructed Correctly: 45 / 52\n",
      "\n",
      "Top 5 Accuracy for Scrambled English 6-grams: 0.8584615384615385\n",
      "Top 5 Accuracy for Scrambled English 7-grams: 0.9071428571428571\n",
      "Top 5 Accuracy for Scrambled English 8-grams: 0.926829268292683\n",
      "Top 5 Accuracy for Scrambled English 9-grams: 0.9038461538461539\n"
     ]
    }
   ],
   "source": [
    "print('Top 3 Accuracy for Scrambled English 6-grams: ' + str(np.sum(en_perm6_top3.iloc[:,3]) / np.sum(en_perm6_top3.iloc[:,3] >= 0)))\n",
    "print('Top 3 Accuracy for Scrambled English 7-grams: ' + str(np.sum(en_perm7_top3.iloc[:,3]) / np.sum(en_perm7_top3.iloc[:,3] >= 0)))\n",
    "print('Top 3 Accuracy for Scrambled English 8-grams: ' + str(np.sum(en_perm8_top3.iloc[:,3]) / np.sum(en_perm8_top3.iloc[:,3] >= 0)))\n",
    "print('Top 3 Accuracy for Scrambled English 9-grams: ' + str(np.sum(en_perm9_top3.iloc[:,3]) / np.sum(en_perm9_top3.iloc[:,3] >= 0)))\n",
    "print()\n",
    "print('Number of English Sentences Reconstructed Correctly: ' + str(int(np.sum(en_perm6_top3.iloc[:,3]))) + ' / ' + str(np.sum(en_perm6_top3.iloc[:,3] >= 0)))\n",
    "print('Number of English Sentences Reconstructed Correctly: ' + str(int(np.sum(en_perm7_top3.iloc[:,3]))) + ' / ' + str(np.sum(en_perm7_top3.iloc[:,3] >= 0)))\n",
    "print('Number of English Sentences Reconstructed Correctly: ' + str(int(np.sum(en_perm8_top3.iloc[:,3]))) + ' / ' + str(np.sum(en_perm8_top3.iloc[:,3] >= 0)))\n",
    "print('Number of English Sentences Reconstructed Correctly: ' + str(int(np.sum(en_perm9_top3.iloc[:,3]))) + ' / ' + str(np.sum(en_perm9_top3.iloc[:,3] >= 0)))\n",
    "print()\n",
    "\n",
    "print('Top 5 Accuracy for Scrambled English 6-grams: ' + str(np.sum(en_perm6_top5.iloc[:,3]) / np.sum(en_perm6_top5.iloc[:,3] >= 0)))\n",
    "print('Top 5 Accuracy for Scrambled English 7-grams: ' + str(np.sum(en_perm7_top5.iloc[:,3]) / np.sum(en_perm7_top5.iloc[:,3] >= 0)))\n",
    "print('Top 5 Accuracy for Scrambled English 8-grams: ' + str(np.sum(en_perm8_top5.iloc[:,3]) / np.sum(en_perm8_top5.iloc[:,3] >= 0)))\n",
    "print('Top 5 Accuracy for Scrambled English 9-grams: ' + str(np.sum(en_perm9_top5.iloc[:,3]) / np.sum(en_perm9_top5.iloc[:,3] >= 0)))"
   ]
  },
  {
   "cell_type": "code",
   "execution_count": 6,
   "metadata": {},
   "outputs": [
    {
     "name": "stdout",
     "output_type": "stream",
     "text": [
      "Num of Spanish sentences with scrambled representations for 6-grams: 296 / 1000\n",
      "Num of Spanish sentences with scrambled representations for 7-grams: 134 / 1000\n",
      "Num of Spanish sentences with scrambled representations for 8-grams: 79 / 1000\n",
      "Num of Spanish sentences with scrambled representations for 9-grams: 50 / 1000\n",
      "\n",
      "Accuracy for Scrambled Spanish 6-grams: 0.2635135135135135\n",
      "Accuracy for Scrambled Spanish 7-grams: 0.3358208955223881\n",
      "Accuracy for Scrambled Spanish 8-grams: 0.34177215189873417\n",
      "Accuracy for Scrambled Spanish 9-grams: 0.46\n",
      "\n",
      "Number of Spanish Sentences Reconstructed Correctly: 78 / 296\n",
      "Number of Spanish Sentences Reconstructed Correctly: 45 / 134\n",
      "Number of Spanish Sentences Reconstructed Correctly: 27 / 79\n",
      "Number of Spanish Sentences Reconstructed Correctly: 23 / 50\n",
      "\n",
      "Accuracy for All Spanish 6-grams: 0.782\n",
      "Accuracy for All Spanish 7-grams: 0.911\n",
      "Accuracy for All Spanish 8-grams: 0.948\n",
      "Accuracy for All Spanish 9-grams: 0.973\n"
     ]
    }
   ],
   "source": [
    "print('Num of Spanish sentences with scrambled representations for 6-grams: ' + str(np.sum(es_perm6_acc.iloc[:,3] >= 0)) + ' / 1000')\n",
    "print('Num of Spanish sentences with scrambled representations for 7-grams: ' + str(np.sum(es_perm7_acc.iloc[:,3] >= 0)) + ' / 1000')\n",
    "print('Num of Spanish sentences with scrambled representations for 8-grams: ' + str(np.sum(es_perm8_acc.iloc[:,3] >= 0)) + ' / 1000')\n",
    "print('Num of Spanish sentences with scrambled representations for 9-grams: ' + str(np.sum(es_perm9_acc.iloc[:,3] >= 0)) + ' / 1000')\n",
    "print()\n",
    "print('Accuracy for Scrambled Spanish 6-grams: ' + str(np.sum(es_perm6_acc.iloc[:,3]) / np.sum(es_perm6_acc.iloc[:,3] >= 0)))\n",
    "print('Accuracy for Scrambled Spanish 7-grams: ' + str(np.sum(es_perm7_acc.iloc[:,3]) / np.sum(es_perm7_acc.iloc[:,3] >= 0)))\n",
    "print('Accuracy for Scrambled Spanish 8-grams: ' + str(np.sum(es_perm8_acc.iloc[:,3]) / np.sum(es_perm8_acc.iloc[:,3] >= 0)))\n",
    "print('Accuracy for Scrambled Spanish 9-grams: ' + str(np.sum(es_perm9_acc.iloc[:,3]) / np.sum(es_perm9_acc.iloc[:,3] >= 0)))\n",
    "print()\n",
    "print('Number of Spanish Sentences Reconstructed Correctly: ' + str(int(np.sum(es_perm6_acc.iloc[:,3]))) + ' / ' + str(np.sum(es_perm6_acc.iloc[:,3] >= 0)))\n",
    "print('Number of Spanish Sentences Reconstructed Correctly: ' + str(int(np.sum(es_perm7_acc.iloc[:,3]))) + ' / ' + str(np.sum(es_perm7_acc.iloc[:,3] >= 0)))\n",
    "print('Number of Spanish Sentences Reconstructed Correctly: ' + str(int(np.sum(es_perm8_acc.iloc[:,3]))) + ' / ' + str(np.sum(es_perm8_acc.iloc[:,3] >= 0)))\n",
    "print('Number of Spanish Sentences Reconstructed Correctly: ' + str(int(np.sum(es_perm9_acc.iloc[:,3]))) + ' / ' + str(np.sum(es_perm9_acc.iloc[:,3] >= 0)))\n",
    "print()\n",
    "print('Accuracy for All Spanish 6-grams: ' + str(np.sum(es_perm6_acc.iloc[:,3] != 0) / len(es_perm6_acc.iloc[:,3])))\n",
    "print('Accuracy for All Spanish 7-grams: ' + str(np.sum(es_perm7_acc.iloc[:,3] != 0) / len(es_perm7_acc.iloc[:,3])))\n",
    "print('Accuracy for All Spanish 8-grams: ' + str(np.sum(es_perm8_acc.iloc[:,3] != 0) / len(es_perm8_acc.iloc[:,3])))\n",
    "print('Accuracy for All Spanish 9-grams: ' + str(np.sum(es_perm9_acc.iloc[:,3] != 0) / len(es_perm9_acc.iloc[:,3])))"
   ]
  },
  {
   "cell_type": "code",
   "execution_count": 127,
   "metadata": {},
   "outputs": [
    {
     "name": "stdout",
     "output_type": "stream",
     "text": [
      "Top 3 Accuracy for Scrambled Spanish 6-grams: 0.7195945945945946\n",
      "Top 3 Accuracy for Scrambled Spanish 7-grams: 0.8432835820895522\n",
      "Top 3 Accuracy for Scrambled Spanish 8-grams: 0.8481012658227848\n",
      "Top 3 Accuracy for Scrambled Spanish 9-grams: 0.94\n",
      "\n",
      "Number of Spanish Sentences Reconstructed Correctly: 213 / 296\n",
      "Number of Spanish Sentences Reconstructed Correctly: 113 / 134\n",
      "Number of Spanish Sentences Reconstructed Correctly: 67 / 79\n",
      "Number of Spanish Sentences Reconstructed Correctly: 47 / 50\n",
      "\n",
      "Top 5 Accuracy for Scrambled Spanish 6-grams: 0.8277027027027027\n",
      "Top 5 Accuracy for Scrambled Spanish 7-grams: 0.9104477611940298\n",
      "Top 5 Accuracy for Scrambled Spanish 8-grams: 0.9746835443037974\n",
      "Top 5 Accuracy for Scrambled Spanish 9-grams: 1.0\n"
     ]
    }
   ],
   "source": [
    "print('Top 3 Accuracy for Scrambled Spanish 6-grams: ' + str(np.sum(es_perm6_top3.iloc[:,3]) / np.sum(es_perm6_top3.iloc[:,3] >= 0)))\n",
    "print('Top 3 Accuracy for Scrambled Spanish 7-grams: ' + str(np.sum(es_perm7_top3.iloc[:,3]) / np.sum(es_perm7_top3.iloc[:,3] >= 0)))\n",
    "print('Top 3 Accuracy for Scrambled Spanish 8-grams: ' + str(np.sum(es_perm8_top3.iloc[:,3]) / np.sum(es_perm8_top3.iloc[:,3] >= 0)))\n",
    "print('Top 3 Accuracy for Scrambled Spanish 9-grams: ' + str(np.sum(es_perm9_top3.iloc[:,3]) / np.sum(es_perm9_top3.iloc[:,3] >= 0)))\n",
    "\n",
    "print()\n",
    "print('Number of Spanish Sentences Reconstructed Correctly: ' + str(int(np.sum(es_perm6_top3.iloc[:,3]))) + ' / ' + str(np.sum(es_perm6_top3.iloc[:,3] >= 0)))\n",
    "print('Number of Spanish Sentences Reconstructed Correctly: ' + str(int(np.sum(es_perm7_top3.iloc[:,3]))) + ' / ' + str(np.sum(es_perm7_top3.iloc[:,3] >= 0)))\n",
    "print('Number of Spanish Sentences Reconstructed Correctly: ' + str(int(np.sum(es_perm8_top3.iloc[:,3]))) + ' / ' + str(np.sum(es_perm8_top3.iloc[:,3] >= 0)))\n",
    "print('Number of Spanish Sentences Reconstructed Correctly: ' + str(int(np.sum(es_perm9_top3.iloc[:,3]))) + ' / ' + str(np.sum(es_perm9_top3.iloc[:,3] >= 0)))\n",
    "print()\n",
    "print('Top 5 Accuracy for Scrambled Spanish 6-grams: ' + str(np.sum(es_perm6_top5.iloc[:,3]) / np.sum(es_perm6_top5.iloc[:,3] >= 0)))\n",
    "print('Top 5 Accuracy for Scrambled Spanish 7-grams: ' + str(np.sum(es_perm7_top5.iloc[:,3]) / np.sum(es_perm7_top5.iloc[:,3] >= 0)))\n",
    "print('Top 5 Accuracy for Scrambled Spanish 8-grams: ' + str(np.sum(es_perm8_top5.iloc[:,3]) / np.sum(es_perm8_top5.iloc[:,3] >= 0)))\n",
    "print('Top 5 Accuracy for Scrambled Spanish 9-grams: ' + str(np.sum(es_perm9_top5.iloc[:,3]) / np.sum(es_perm9_top5.iloc[:,3] >= 0)))"
   ]
  },
  {
   "cell_type": "code",
   "execution_count": 49,
   "metadata": {},
   "outputs": [
    {
     "name": "stdout",
     "output_type": "stream",
     "text": [
      "Num of Russian sentences with scrambled representations for 6-grams: 615 / 1000\n",
      "Num of Russian sentences with scrambled representations for 7-grams: 375 / 1000\n",
      "Num of Russian sentences with scrambled representations for 8-grams: 206 / 1000\n",
      "Num of Russian sentences with scrambled representations for 9-grams: 106 / 1000\n",
      "\n",
      "Accuracy for Scrambled Russian 6-grams: 0.08455284552845528\n",
      "Accuracy for Scrambled Russian 7-grams: 0.10133333333333333\n",
      "Accuracy for Scrambled Russian 8-grams: 0.1407766990291262\n",
      "Accuracy for Scrambled Russian 9-grams: 0.22641509433962265\n",
      "\n",
      "Number of Russian Sentences Reconstructed Correctly: 52 / 615\n",
      "Number of Russian Sentences Reconstructed Correctly: 38 / 375\n",
      "Number of Russian Sentences Reconstructed Correctly: 29 / 206\n",
      "Number of Russian Sentences Reconstructed Correctly: 24 / 106\n",
      "\n",
      "Accuracy for All Russian 6-grams: 0.437\n",
      "Accuracy for All Russian 7-grams: 0.663\n",
      "Accuracy for All Russian 8-grams: 0.823\n",
      "Accuracy for All Russian 9-grams: 0.918\n"
     ]
    }
   ],
   "source": [
    "print('Num of Russian sentences with scrambled representations for 6-grams: ' + str(np.sum(ru_perm6_acc.iloc[:,3] >= 0)) + ' / 1000')\n",
    "print('Num of Russian sentences with scrambled representations for 7-grams: ' + str(np.sum(ru_perm7_acc.iloc[:,3] >= 0)) + ' / 1000')\n",
    "print('Num of Russian sentences with scrambled representations for 8-grams: ' + str(np.sum(ru_perm8_acc.iloc[:,3] >= 0)) + ' / 1000')\n",
    "print('Num of Russian sentences with scrambled representations for 9-grams: ' + str(np.sum(ru_perm9_acc.iloc[:,3] >= 0)) + ' / 1000')\n",
    "print()\n",
    "print('Accuracy for Scrambled Russian 6-grams: ' + str(np.sum(ru_perm6_acc.iloc[:,3]) / np.sum(ru_perm6_acc.iloc[:,3] >= 0)))\n",
    "print('Accuracy for Scrambled Russian 7-grams: ' + str(np.sum(ru_perm7_acc.iloc[:,3]) / np.sum(ru_perm7_acc.iloc[:,3] >= 0)))\n",
    "print('Accuracy for Scrambled Russian 8-grams: ' + str(np.sum(ru_perm8_acc.iloc[:,3]) / np.sum(ru_perm8_acc.iloc[:,3] >= 0)))\n",
    "print('Accuracy for Scrambled Russian 9-grams: ' + str(np.sum(ru_perm9_acc.iloc[:,3]) / np.sum(ru_perm9_acc.iloc[:,3] >= 0)))\n",
    "print()\n",
    "print('Number of Russian Sentences Reconstructed Correctly: ' + str(int(np.sum(ru_perm6_acc.iloc[:,3]))) + ' / ' + str(np.sum(ru_perm6_acc.iloc[:,3] >= 0)))\n",
    "print('Number of Russian Sentences Reconstructed Correctly: ' + str(int(np.sum(ru_perm7_acc.iloc[:,3]))) + ' / ' + str(np.sum(ru_perm7_acc.iloc[:,3] >= 0)))\n",
    "print('Number of Russian Sentences Reconstructed Correctly: ' + str(int(np.sum(ru_perm8_acc.iloc[:,3]))) + ' / ' + str(np.sum(ru_perm8_acc.iloc[:,3] >= 0)))\n",
    "print('Number of Russian Sentences Reconstructed Correctly: ' + str(int(np.sum(ru_perm9_acc.iloc[:,3]))) + ' / ' + str(np.sum(ru_perm9_acc.iloc[:,3] >= 0)))\n",
    "print()\n",
    "print('Accuracy for All Russian 6-grams: ' + str(np.sum(ru_perm6_acc.iloc[:,3] != 0) / len(ru_perm6_acc.iloc[:,3])))\n",
    "print('Accuracy for All Russian 7-grams: ' + str(np.sum(ru_perm7_acc.iloc[:,3] != 0) / len(ru_perm7_acc.iloc[:,3])))\n",
    "print('Accuracy for All Russian 8-grams: ' + str(np.sum(ru_perm8_acc.iloc[:,3] != 0) / len(ru_perm8_acc.iloc[:,3])))\n",
    "print('Accuracy for All Russian 9-grams: ' + str(np.sum(ru_perm9_acc.iloc[:,3] != 0) / len(ru_perm9_acc.iloc[:,3])))"
   ]
  },
  {
   "cell_type": "code",
   "execution_count": 129,
   "metadata": {},
   "outputs": [
    {
     "name": "stdout",
     "output_type": "stream",
     "text": [
      "Top 3 Accuracy for Scrambled Russian 6-grams: 0.191869918699187\n",
      "Top 3 Accuracy for Scrambled Russian 7-grams: 0.3253333333333333\n",
      "Top 3 Accuracy for Scrambled Russian 8-grams: 0.470873786407767\n",
      "Top 3 Accuracy for Scrambled Russian 9-grams: 0.6132075471698113\n",
      "\n",
      "Number of Russian Sentences Reconstructed Correctly: 118 / 615\n",
      "Number of Russian Sentences Reconstructed Correctly: 122 / 375\n",
      "Number of Russian Sentences Reconstructed Correctly: 97 / 206\n",
      "Number of Russian Sentences Reconstructed Correctly: 65 / 106\n",
      "\n",
      "Top 5 Accuracy for Scrambled Russian 6-grams: 0.24715447154471545\n",
      "Top 5 Accuracy for Scrambled Russian 7-grams: 0.39466666666666667\n",
      "Top 5 Accuracy for Scrambled Russian 8-grams: 0.5970873786407767\n",
      "Top 5 Accuracy for Scrambled Russian 9-grams: 0.7169811320754716\n"
     ]
    }
   ],
   "source": [
    "print('Top 3 Accuracy for Scrambled Russian 6-grams: ' + str(np.sum(ru_perm6_top3.iloc[:,3]) / np.sum(ru_perm6_top3.iloc[:,3] >= 0)))\n",
    "print('Top 3 Accuracy for Scrambled Russian 7-grams: ' + str(np.sum(ru_perm7_top3.iloc[:,3]) / np.sum(ru_perm7_top3.iloc[:,3] >= 0)))\n",
    "print('Top 3 Accuracy for Scrambled Russian 8-grams: ' + str(np.sum(ru_perm8_top3.iloc[:,3]) / np.sum(ru_perm8_top3.iloc[:,3] >= 0)))\n",
    "print('Top 3 Accuracy for Scrambled Russian 9-grams: ' + str(np.sum(ru_perm9_top3.iloc[:,3]) / np.sum(ru_perm9_top3.iloc[:,3] >= 0)))\n",
    "\n",
    "print()\n",
    "print('Number of Russian Sentences Reconstructed Correctly: ' + str(int(np.sum(ru_perm6_top3.iloc[:,3]))) + ' / ' + str(np.sum(ru_perm6_top3.iloc[:,3] >= 0)))\n",
    "print('Number of Russian Sentences Reconstructed Correctly: ' + str(int(np.sum(ru_perm7_top3.iloc[:,3]))) + ' / ' + str(np.sum(ru_perm7_top3.iloc[:,3] >= 0)))\n",
    "print('Number of Russian Sentences Reconstructed Correctly: ' + str(int(np.sum(ru_perm8_top3.iloc[:,3]))) + ' / ' + str(np.sum(ru_perm8_top3.iloc[:,3] >= 0)))\n",
    "print('Number of Russian Sentences Reconstructed Correctly: ' + str(int(np.sum(ru_perm9_top3.iloc[:,3]))) + ' / ' + str(np.sum(ru_perm9_top3.iloc[:,3] >= 0)))\n",
    "print()\n",
    "print('Top 5 Accuracy for Scrambled Russian 6-grams: ' + str(np.sum(ru_perm6_top5.iloc[:,3]) / np.sum(ru_perm6_top5.iloc[:,3] >= 0)))\n",
    "print('Top 5 Accuracy for Scrambled Russian 7-grams: ' + str(np.sum(ru_perm7_top5.iloc[:,3]) / np.sum(ru_perm7_top5.iloc[:,3] >= 0)))\n",
    "print('Top 5 Accuracy for Scrambled Russian 8-grams: ' + str(np.sum(ru_perm8_top5.iloc[:,3]) / np.sum(ru_perm8_top5.iloc[:,3] >= 0)))\n",
    "print('Top 5 Accuracy for Scrambled Russian 9-grams: ' + str(np.sum(ru_perm9_top5.iloc[:,3]) / np.sum(ru_perm9_top5.iloc[:,3] >= 0)))"
   ]
  },
  {
   "cell_type": "code",
   "execution_count": 39,
   "metadata": {},
   "outputs": [
    {
     "data": {
      "image/png": "[encoded data removed]",
      "text/plain": [
       "<Figure size 648x576 with 1 Axes>"
      ]
     },
     "metadata": {},
     "output_type": "display_data"
    }
   ],
   "source": [
    "ngram_size = [6, 7, 8, 9]\n",
    "ngram_size = np.array(ngram_size)\n",
    "\n",
    "# change these numbers\n",
    "en_only_1_permute_acc = [.675, .860, .918, .948]\n",
    "\n",
    "en_sent_scramble_acc = []\n",
    "en_sent_scramble_acc.append(np.sum(en_perm6_acc.iloc[:,3]) / 1000) #np.sum(en_perm6_acc.iloc[:,3] >= 0))\n",
    "en_sent_scramble_acc.append(np.sum(en_perm7_acc.iloc[:,3]) / 1000) #np.sum(en_perm7_acc.iloc[:,3] >= 0))\n",
    "en_sent_scramble_acc.append(np.sum(en_perm8_acc.iloc[:,3]) / 1000) #np.sum(en_perm8_acc.iloc[:,3] >= 0))\n",
    "en_sent_scramble_acc.append(np.sum(en_perm9_acc.iloc[:,3]) / 1000) #np.sum(en_perm9_acc.iloc[:,3] >= 0))\n",
    "\n",
    "# change these numbers\n",
    "es_only_1_permute_acc = [.704, .866, .921, .957]\n",
    "\n",
    "es_sent_scramble_acc= []\n",
    "es_sent_scramble_acc.append(np.sum(es_perm6_acc.iloc[:,3]) / 1000)\n",
    "es_sent_scramble_acc.append(np.sum(es_perm7_acc.iloc[:,3]) / 1000)\n",
    "es_sent_scramble_acc.append(np.sum(es_perm8_acc.iloc[:,3]) / 1000)\n",
    "es_sent_scramble_acc.append(np.sum(es_perm9_acc.iloc[:,3]) / 1000)\n",
    "\n",
    "ru_only_1_permute_acc = [.385, .625, .794, .904]\n",
    "\n",
    "ru_sent_scramble_acc= []\n",
    "ru_sent_scramble_acc.append(np.sum(ru_perm6_acc.iloc[:,3]) / 1000)\n",
    "ru_sent_scramble_acc.append(np.sum(ru_perm7_acc.iloc[:,3]) / 1000)\n",
    "ru_sent_scramble_acc.append(np.sum(ru_perm8_acc.iloc[:,3]) / 1000)\n",
    "ru_sent_scramble_acc.append(np.sum(ru_perm9_acc.iloc[:,3]) / 1000)\n",
    "\n",
    "#ind = np.arange(4)\n",
    "width = 0.25\n",
    "#ngram_size_new = [\"\", 6, \"\" , 7, \"\" , 8, \"\" , 9]\n",
    "fig = plt.figure(figsize=(9,8))\n",
    "ax = fig.add_subplot(111)\n",
    "\n",
    "en_1_sent = ax.bar(ngram_size, \n",
    "                   en_only_1_permute_acc, \n",
    "                   width=width, \n",
    "                   color='lightblue',\n",
    "                   align='center', \n",
    "                   edgecolor='black')\n",
    "en_scramble_sent = ax.bar(ngram_size, \n",
    "                          en_sent_scramble_acc, \n",
    "                          width=width, \n",
    "                          bottom=en_only_1_permute_acc, \n",
    "                          color='lightblue', \n",
    "                          align='center', \n",
    "                          edgecolor='black',\n",
    "                          hatch='//')\n",
    "es_1_sent = ax.bar(ngram_size+width, \n",
    "                   es_only_1_permute_acc, \n",
    "                   width=width, \n",
    "                   color='salmon', \n",
    "                   align='center',\n",
    "                   edgecolor='black',)\n",
    "es_scramble_sent = ax.bar(ngram_size+width, \n",
    "                          es_sent_scramble_acc, \n",
    "                          width=width, \n",
    "                          color='salmon',\n",
    "                          bottom=es_only_1_permute_acc,\n",
    "                          align='center',\n",
    "                          edgecolor='black',\n",
    "                          hatch='//')\n",
    "ru_1_sent = ax.bar(ngram_size-width, \n",
    "                   ru_only_1_permute_acc,\n",
    "                   width=width, \n",
    "                   color='palegreen', \n",
    "                   align='center',\n",
    "                   edgecolor='black')\n",
    "ru_scramble_sent = ax.bar(ngram_size-width, \n",
    "                          ru_sent_scramble_acc, \n",
    "                          width=width, \n",
    "                          bottom=ru_only_1_permute_acc, \n",
    "                          color='palegreen', \n",
    "                          align='center',\n",
    "                          edgecolor='black',\n",
    "                          hatch='//')\n",
    "\n",
    "# dashed line at prob = 1\n",
    "ax.axhline(1, ls='dashed', color='black')\n",
    "\n",
    "plt.title('Percent of Sentences Reconstructed Correctly (out of 1000)', fontsize=15)\n",
    "plt.ylabel('Accuracy',fontsize=15)\n",
    "plt.xlabel('N-gram Order', fontsize=15)\n",
    "plt.xticks(ngram_size)\n",
    "#ax.set_xticklabels(ngram_size_new)\n",
    "plt.legend((en_1_sent[0], en_scramble_sent[0], es_1_sent[0], es_scramble_sent[0], ru_1_sent[0], ru_scramble_sent[0]), \n",
    "           ('English w.  1 valid Perm', 'English w. >1 valid Perm',\n",
    "            'Spanish w.  1 valid Perm', 'Spanish w. >1 valid Perm',\n",
    "            'Russian w.  1 valid Perm', 'Russian w. >1 valid Perm'), \n",
    "             loc='lower right',fontsize=15, fancybox=True)\n",
    "fig.savefig('figures/1000_sent.png')"
   ]
  },
  {
   "cell_type": "code",
   "execution_count": 37,
   "metadata": {},
   "outputs": [
    {
     "data": {
      "image/png": "[encoded data removed]",
      "text/plain": [
       "<Figure size 648x576 with 1 Axes>"
      ]
     },
     "metadata": {},
     "output_type": "display_data"
    }
   ],
   "source": [
    "ngram_size = [6, 7, 8, 9]\n",
    "ngram_size = np.array(ngram_size)\n",
    "\n",
    "en_sent_scramble_acc = []\n",
    "en_sent_scramble_acc.append(np.sum(en_perm6_acc.iloc[:,3]) / np.sum(en_perm6_acc.iloc[:,3] >= 0))\n",
    "en_sent_scramble_acc.append(np.sum(en_perm7_acc.iloc[:,3]) / np.sum(en_perm7_acc.iloc[:,3] >= 0))\n",
    "en_sent_scramble_acc.append(np.sum(en_perm8_acc.iloc[:,3]) / np.sum(en_perm8_acc.iloc[:,3] >= 0))\n",
    "en_sent_scramble_acc.append(np.sum(en_perm9_acc.iloc[:,3]) / np.sum(en_perm9_acc.iloc[:,3] >= 0))\n",
    "\n",
    "es_sent_scramble_acc = []\n",
    "es_sent_scramble_acc.append(np.sum(es_perm6_acc.iloc[:,3]) / np.sum(es_perm6_acc.iloc[:,3] >= 0))\n",
    "es_sent_scramble_acc.append(np.sum(es_perm7_acc.iloc[:,3]) / np.sum(es_perm7_acc.iloc[:,3] >= 0))\n",
    "es_sent_scramble_acc.append(np.sum(es_perm8_acc.iloc[:,3]) / np.sum(es_perm8_acc.iloc[:,3] >= 0))\n",
    "es_sent_scramble_acc.append(np.sum(es_perm9_acc.iloc[:,3]) / np.sum(es_perm9_acc.iloc[:,3] >= 0))\n",
    "#en_only_1_permute_acc = [.675, .860, .918, .948]\n",
    "\n",
    "ru_sent_scramble_acc = []\n",
    "ru_sent_scramble_acc.append(np.sum(ru_perm6_acc.iloc[:,3]) / np.sum(ru_perm6_acc.iloc[:,3] >= 0))\n",
    "ru_sent_scramble_acc.append(np.sum(ru_perm7_acc.iloc[:,3]) / np.sum(ru_perm7_acc.iloc[:,3] >= 0))\n",
    "ru_sent_scramble_acc.append(np.sum(ru_perm8_acc.iloc[:,3]) / np.sum(ru_perm8_acc.iloc[:,3] >= 0))\n",
    "ru_sent_scramble_acc.append(np.sum(ru_perm9_acc.iloc[:,3]) / np.sum(ru_perm9_acc.iloc[:,3] >= 0))\n",
    "\n",
    "width = 0.25\n",
    "ngram_size_new = [\"\", 6, \"\" , 7, \"\" , 8, \"\" , 9]\n",
    "fig = plt.figure(figsize=(9,8))\n",
    "ax = fig.add_subplot(111)\n",
    "\n",
    "#eng_1_sent = plt.bar(ngram_size, en_only_1_permute_acc)\n",
    "en_scramble_sent = ax.bar(ngram_size, en_sent_scramble_acc, width=width, color='lightblue', align='center', edgecolor='black') #bottom=only_1_permute_acc)\n",
    "es_scramble_sent = ax.bar(ngram_size+width, es_sent_scramble_acc, width=width, color='salmon', align='center',edgecolor='black')\n",
    "ru_scramble_sent = ax.bar(ngram_size-width, ru_sent_scramble_acc, width=width, color='palegreen', align='center', edgecolor='black')\n",
    "\n",
    "plt.title('Percent of Sentences with Multiple Permutations Reconstructed Correctly',fontsize=15)\n",
    "plt.ylabel('Accuracy',fontsize=15)\n",
    "plt.xlabel('N-gram Order',fontsize=15)\n",
    "plt.xticks(ngram_size)\n",
    "plt.legend((en_scramble_sent[0], es_scramble_sent[0], ru_scramble_sent[0]), \n",
    "           ('English', 'Spanish', 'Russian'), loc='best', fontsize=15)\n",
    "fig.savefig('figures/mult_perm.png')"
   ]
  },
  {
   "cell_type": "code",
   "execution_count": 50,
   "metadata": {
    "scrolled": true
   },
   "outputs": [],
   "source": [
    "def get_avg_len_of_sentences(data):\n",
    "    n = 0\n",
    "    cum_sum = 0\n",
    "    for i in range(len(data)):\n",
    "        if data.iloc[i,3] >= 0:\n",
    "            n += 1\n",
    "            cum_sum += len(data.iloc[i,2])\n",
    "    return cum_sum / n"
   ]
  },
  {
   "cell_type": "code",
   "execution_count": 54,
   "metadata": {
    "scrolled": true
   },
   "outputs": [
    {
     "data": {
      "text/plain": [
       "54.160377358490564"
      ]
     },
     "execution_count": 54,
     "metadata": {},
     "output_type": "execute_result"
    }
   ],
   "source": [
    "get_avg_len_of_sentences(ru_perm9_acc)"
   ]
  },
  {
   "cell_type": "code",
   "execution_count": 55,
   "metadata": {},
   "outputs": [],
   "source": [
    "ru_avg_len = []\n",
    "ru_avg_len.append(get_avg_len_of_sentences(ru_perm6_acc))\n",
    "ru_avg_len.append(get_avg_len_of_sentences(ru_perm7_acc))\n",
    "ru_avg_len.append(get_avg_len_of_sentences(ru_perm8_acc))\n",
    "ru_avg_len.append(get_avg_len_of_sentences(ru_perm9_acc))\n",
    "\n",
    "en_avg_len = []\n",
    "en_avg_len.append(get_avg_len_of_sentences(en_perm6_acc))\n",
    "en_avg_len.append(get_avg_len_of_sentences(en_perm7_acc))\n",
    "en_avg_len.append(get_avg_len_of_sentences(en_perm8_acc))\n",
    "en_avg_len.append(get_avg_len_of_sentences(en_perm9_acc))\n",
    "\n",
    "es_avg_len = []\n",
    "es_avg_len.append(get_avg_len_of_sentences(es_perm6_acc))\n",
    "es_avg_len.append(get_avg_len_of_sentences(es_perm7_acc))\n",
    "es_avg_len.append(get_avg_len_of_sentences(es_perm8_acc))\n",
    "es_avg_len.append(get_avg_len_of_sentences(es_perm9_acc))"
   ]
  },
  {
   "cell_type": "code",
   "execution_count": 67,
   "metadata": {},
   "outputs": [
    {
     "name": "stdout",
     "output_type": "stream",
     "text": [
      "Russian  [531.9788617886179, 217.76, 106.35436893203884, 54.160377358490564]\n",
      "English  [70.25538461538461, 16.478571428571428, 4.378048780487805, 3.8461538461538463]\n",
      "Spanish  [88.54729729729729, 16.529850746268657, 4.556962025316456, 3.4]\n"
     ]
    }
   ],
   "source": [
    "print('Russian ', ru_avg_len)\n",
    "print('English ', en_avg_len)\n",
    "print('Spanish ', es_avg_len)"
   ]
  },
  {
   "cell_type": "code",
   "execution_count": 66,
   "metadata": {},
   "outputs": [
    {
     "data": {
      "text/plain": [
       "<matplotlib.legend.Legend at 0x211a14745f8>"
      ]
     },
     "execution_count": 66,
     "metadata": {},
     "output_type": "execute_result"
    },
    {
     "data": {
      "image/png": "[encoded data removed]",
      "text/plain": [
       "<Figure size 576x432 with 1 Axes>"
      ]
     },
     "metadata": {},
     "output_type": "display_data"
    }
   ],
   "source": [
    "ngram_size = [6, 7, 8, 9]\n",
    "ngram_size = np.array(ngram_size)\n",
    "\n",
    "width = 0.25\n",
    "ngram_size_new = [\"\", 6, \"\" , 7, \"\" , 8, \"\" , 9]\n",
    "fig = plt.figure(figsize=(8,6))\n",
    "ax = fig.add_subplot(111)\n",
    "\n",
    "\n",
    "#eng_1_sent = plt.bar(ngram_size, en_only_1_permute_acc)\n",
    "en_len = ax.bar(ngram_size, en_avg_len, width=width, color='lightblue', align='center', edgecolor='black') #bottom=only_1_permute_acc)\n",
    "es_len = ax.bar(ngram_size+width, es_avg_len, width=width, color='salmon', align='center',edgecolor='black')\n",
    "ru_len = ax.bar(ngram_size-width, ru_avg_len, width=width, color='palegreen', align='center', edgecolor='black')\n",
    "\n",
    "plt.title('Avg Number of Permutations for Sentences with Multiple Valid Permutation')\n",
    "plt.ylabel('Number of Permutations')\n",
    "plt.xlabel('N-gram Order')\n",
    "plt.xticks(ngram_size)\n",
    "plt.legend((en_len[0], es_len[0], ru_len[0]), \n",
    "           ('English', 'Spanish', 'Russian'), loc='best')"
   ]
  },
  {
   "cell_type": "code",
   "execution_count": 53,
   "metadata": {},
   "outputs": [
    {
     "name": "stdout",
     "output_type": "stream",
     "text": [
      "1.6042768854685274\n",
      "2.5045185909832406\n",
      "1.979377596099658\n"
     ]
    }
   ],
   "source": [
    "# getting bits per character - c\n",
    "\n",
    "#english \n",
    "english_bpc = 1.112 / np.log(2)\n",
    "spanish_bpc = 1.736 / np.log(2)\n",
    "russian_bpc = 1.372 / np.log(2)\n",
    "\n",
    "print(english_bpc)\n",
    "print(spanish_bpc)\n",
    "print(russian_bpc)"
   ]
  },
  {
   "cell_type": "code",
   "execution_count": null,
   "metadata": {},
   "outputs": [],
   "source": []
  }
 ],
 "metadata": {
  "kernelspec": {
   "display_name": "Python 3",
   "language": "python",
   "name": "python3"
  },
  "language_info": {
   "codemirror_mode": {
    "name": "ipython",
    "version": 3
   },
   "file_extension": ".py",
   "mimetype": "text/x-python",
   "name": "python",
   "nbconvert_exporter": "python",
   "pygments_lexer": "ipython3",
   "version": "3.6.4"
  }
 },
 "nbformat": 4,
 "nbformat_minor": 2
}
